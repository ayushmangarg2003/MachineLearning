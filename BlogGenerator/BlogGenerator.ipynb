{
  "nbformat": 4,
  "nbformat_minor": 0,
  "metadata": {
    "colab": {
      "provenance": [],
      "toc_visible": true,
      "authorship_tag": "ABX9TyPTrlPrpRl9V+I9i/iPplwz",
      "include_colab_link": true
    },
    "kernelspec": {
      "name": "python3",
      "display_name": "Python 3"
    },
    "language_info": {
      "name": "python"
    }
  },
  "cells": [
    {
      "cell_type": "markdown",
      "metadata": {
        "id": "view-in-github",
        "colab_type": "text"
      },
      "source": [
        "<a href=\"https://colab.research.google.com/github/ayushmangarg2003/ml/blob/main/BlogGenerator/BlogGenerator.ipynb\" target=\"_parent\"><img src=\"https://colab.research.google.com/assets/colab-badge.svg\" alt=\"Open In Colab\"/></a>"
      ]
    },
    {
      "cell_type": "code",
      "execution_count": null,
      "metadata": {
        "id": "SnVK_oeQF30x"
      },
      "outputs": [],
      "source": [
        "!pip install transformers datasets\n"
      ]
    },
    {
      "cell_type": "code",
      "source": [
        "from transformers import AutoTokenizer\n",
        "from transformers import AutoModelForCausalLM\n",
        "model_name = \"gpt2\"\n",
        "tokenizer = AutoTokenizer.from_pretrained(model_name)\n",
        "if tokenizer.pad_token is None:\n",
        "  tokenizer.pad_token = tokenizer.eos_token\n",
        "model = AutoModelForCausalLM.from_pretrained(model_name)\n"
      ],
      "metadata": {
        "id": "9CxkM-7uGS-J"
      },
      "execution_count": null,
      "outputs": []
    },
    {
      "cell_type": "code",
      "source": [
        "input_text = \"Backend Web Developer: A back-end developer is a software developer that works on the web application’s back-end services. These services can be as simple as databases, or as complex as load balancers, APIs, and other web services. The back-end services are what make an app operationally efficient. They maintain the data, process requests, and route traffic to various parts of the user experience. The back-end developer should have a solid understanding of databases, JavaScript, and other technologies required to build effective web applications that work efficiently from start to finish.\""
      ],
      "metadata": {
        "id": "3MRIfW5IGTNS"
      },
      "execution_count": null,
      "outputs": []
    },
    {
      "cell_type": "code",
      "source": [
        "inputs = tokenizer(input_text, return_tensors=\"pt\")\n",
        "model(**inputs).logits\n",
        "output = model.generate(inputs['input_ids'],pad_token_id=tokenizer.pad_token_id, max_length=500, temperature=0.9, do_sample=True)\n",
        "generated_text = tokenizer.decode(output[0], skip_special_tokens=True)\n",
        "print(generated_text)"
      ],
      "metadata": {
        "id": "xiw5uD3iQuMU"
      },
      "execution_count": null,
      "outputs": []
    },
    {
      "cell_type": "code",
      "source": [],
      "metadata": {
        "id": "yXk4s1EJGTd-"
      },
      "execution_count": null,
      "outputs": []
    }
  ]
}